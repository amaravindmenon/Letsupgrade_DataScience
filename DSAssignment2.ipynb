{
  "nbformat": 4,
  "nbformat_minor": 0,
  "metadata": {
    "colab": {
      "name": "DSAssignment2.ipynb",
      "provenance": [],
      "authorship_tag": "ABX9TyPdEI0p8lP6ordyrp2NpobX",
      "include_colab_link": true
    },
    "kernelspec": {
      "name": "python3",
      "display_name": "Python 3"
    }
  },
  "cells": [
    {
      "cell_type": "markdown",
      "metadata": {
        "id": "view-in-github",
        "colab_type": "text"
      },
      "source": [
        "<a href=\"https://colab.research.google.com/github/amaravindmenon/Letsupgrade_DataScience/blob/main/DSAssignment2.ipynb\" target=\"_parent\"><img src=\"https://colab.research.google.com/assets/colab-badge.svg\" alt=\"Open In Colab\"/></a>"
      ]
    },
    {
      "cell_type": "code",
      "metadata": {
        "id": "TMWsONqt7P7Y",
        "outputId": "48809bde-a4c7-49dc-bf51-606ab81d49c0",
        "colab": {
          "base_uri": "https://localhost:8080/"
        }
      },
      "source": [
        "#Question 1\n",
        "\n",
        "a = []\n",
        "for s in range(1,11):\n",
        "  s = int(input()) \n",
        "  if s%2==0:\n",
        "    a.append(s)\n",
        "print(a)"
      ],
      "execution_count": null,
      "outputs": [
        {
          "output_type": "stream",
          "text": [
            "4\n",
            "6\n",
            "2\n",
            "5\n",
            "8\n",
            "4\n",
            "7\n",
            "5\n",
            "9\n",
            "8\n",
            "[4, 6, 2, 8, 4, 8]\n"
          ],
          "name": "stdout"
        }
      ]
    },
    {
      "cell_type": "code",
      "metadata": {
        "id": "ngYKoHax8N_g",
        "outputId": "586b19a7-b571-4e09-d537-8fdeaa5dbe11",
        "colab": {
          "base_uri": "https://localhost:8080/"
        }
      },
      "source": [
        "#Question 2\n",
        "\n",
        "h_notebooks = [ letter for letter in 'notebooks' ]\n",
        "print( h_notebooks)"
      ],
      "execution_count": null,
      "outputs": [
        {
          "output_type": "stream",
          "text": [
            "['n', 'o', 't', 'e', 'b', 'o', 'o', 'k', 's']\n"
          ],
          "name": "stdout"
        }
      ]
    },
    {
      "cell_type": "code",
      "metadata": {
        "id": "VvLCW90Z-QUk",
        "outputId": "f9627296-ada0-47a8-a1f6-178ffaf47f11",
        "colab": {
          "base_uri": "https://localhost:8080/"
        }
      },
      "source": [
        "#Question 3\n",
        "\n",
        "dict1 ={}\n",
        "n = int(input(\"input:\\n\"))\n",
        "for i in range(1,n+1):\n",
        "  dict1[i]=i*i\n",
        "print(\"Output:\\n\",dict1)"
      ],
      "execution_count": null,
      "outputs": [
        {
          "output_type": "stream",
          "text": [
            "input:\n",
            "8\n",
            "Output:\n",
            " {1: 1, 2: 4, 3: 9, 4: 16, 5: 25, 6: 36, 7: 49, 8: 64}\n"
          ],
          "name": "stdout"
        }
      ]
    }
  ]
}