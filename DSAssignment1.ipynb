{
  "nbformat": 4,
  "nbformat_minor": 0,
  "metadata": {
    "colab": {
      "name": "DSAssignment1.ipynb",
      "provenance": [],
      "authorship_tag": "ABX9TyOXC+6BtoNgjL8yuZDVfeRU",
      "include_colab_link": true
    },
    "kernelspec": {
      "name": "python3",
      "display_name": "Python 3"
    }
  },
  "cells": [
    {
      "cell_type": "markdown",
      "metadata": {
        "id": "view-in-github",
        "colab_type": "text"
      },
      "source": [
        "<a href=\"https://colab.research.google.com/github/amaravindmenon/Letsupgrade_DataScience/blob/main/DSAssignment1.ipynb\" target=\"_parent\"><img src=\"https://colab.research.google.com/assets/colab-badge.svg\" alt=\"Open In Colab\"/></a>"
      ]
    },
    {
      "cell_type": "code",
      "metadata": {
        "id": "ZlK4-1KY1V68"
      },
      "source": [
        "#Question 1\n",
        "\n",
        "print(\"B) RAINBOW\")"
      ],
      "execution_count": null,
      "outputs": []
    },
    {
      "cell_type": "code",
      "metadata": {
        "id": "JCsTCclZ1Puo",
        "outputId": "8b419641-f1a2-4720-ee01-317dcc85159c",
        "colab": {
          "base_uri": "https://localhost:8080/"
        }
      },
      "source": [
        "#Question 2\n",
        "\n",
        "word = \"lets upgrade\"\n",
        "print(word.upper())"
      ],
      "execution_count": 6,
      "outputs": [
        {
          "output_type": "stream",
          "text": [
            "LETS UPGRADE\n"
          ],
          "name": "stdout"
        }
      ]
    },
    {
      "cell_type": "code",
      "metadata": {
        "id": "Maik_dii0aQp",
        "outputId": "e5c29605-4646-4cf7-94ab-41359f0400c1",
        "colab": {
          "base_uri": "https://localhost:8080/"
        }
      },
      "source": [
        "#Question 3\n",
        "\n",
        "cost = int(input())\n",
        "sell = int(input())\n",
        "\n",
        "if (cost < sell):\n",
        "  print(\"Profit\")\n",
        "elif (cost > sell):\n",
        "  print(\"Loss\")\n",
        "else:\n",
        "  print(\"Neither\")"
      ],
      "execution_count": 5,
      "outputs": [
        {
          "output_type": "stream",
          "text": [
            "20\n",
            "30\n",
            "Profit\n"
          ],
          "name": "stdout"
        }
      ]
    },
    {
      "cell_type": "code",
      "metadata": {
        "id": "wYgwmGqA1ePm",
        "outputId": "b5a36895-0e57-4460-a632-2a34d837b690",
        "colab": {
          "base_uri": "https://localhost:8080/"
        }
      },
      "source": [
        "#Question 4\n",
        "\n",
        "rs = int(input())\n",
        "print(rs/80)"
      ],
      "execution_count": 7,
      "outputs": [
        {
          "output_type": "stream",
          "text": [
            "20\n",
            "0.25\n"
          ],
          "name": "stdout"
        }
      ]
    }
  ]
}