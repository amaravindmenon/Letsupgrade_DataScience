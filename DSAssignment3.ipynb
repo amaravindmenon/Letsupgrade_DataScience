{
  "nbformat": 4,
  "nbformat_minor": 0,
  "metadata": {
    "colab": {
      "name": "DSAssignment3.ipynb",
      "provenance": [],
      "authorship_tag": "ABX9TyMEdcnoXnrnUvJDpSsDfNi1",
      "include_colab_link": true
    },
    "kernelspec": {
      "name": "python3",
      "display_name": "Python 3"
    }
  },
  "cells": [
    {
      "cell_type": "markdown",
      "metadata": {
        "id": "view-in-github",
        "colab_type": "text"
      },
      "source": [
        "<a href=\"https://colab.research.google.com/github/amaravindmenon/Letsupgrade_DataScience/blob/main/DSAssignment3.ipynb\" target=\"_parent\"><img src=\"https://colab.research.google.com/assets/colab-badge.svg\" alt=\"Open In Colab\"/></a>"
      ]
    },
    {
      "cell_type": "code",
      "metadata": {
        "id": "P6bZou50Itwr"
      },
      "source": [
        "import numpy as np"
      ],
      "execution_count": 1,
      "outputs": []
    },
    {
      "cell_type": "code",
      "metadata": {
        "id": "0_PK2J8IIzam",
        "outputId": "c29948f0-6ef1-48ac-ea40-01c028f80f06",
        "colab": {
          "base_uri": "https://localhost:8080/"
        }
      },
      "source": [
        "#Question 1\n",
        "arr = np.arange(2,50,3)\n",
        "arr"
      ],
      "execution_count": 2,
      "outputs": [
        {
          "output_type": "execute_result",
          "data": {
            "text/plain": [
              "array([ 2,  5,  8, 11, 14, 17, 20, 23, 26, 29, 32, 35, 38, 41, 44, 47])"
            ]
          },
          "metadata": {
            "tags": []
          },
          "execution_count": 2
        }
      ]
    },
    {
      "cell_type": "code",
      "metadata": {
        "id": "F5yS4WoYI3SA",
        "outputId": "22ef6d9b-fe54-4cac-de59-9d9272661a61",
        "colab": {
          "base_uri": "https://localhost:8080/"
        }
      },
      "source": [
        "#Question 2\n",
        "list1 = []\n",
        "list2 = []\n",
        "\n",
        "for i in range(0,5):\n",
        "  list1.append(int(input(\"enter the number: \")))\n",
        "  \n",
        "for i in range(0,5):\n",
        "  list2.append(int(input(\"enter the number: \")))\n",
        "\n",
        "arr = np.array([list1,list2])\n",
        "print(arr)\n",
        "print(\"After sorting\")\n",
        "print(np.sort(arr))"
      ],
      "execution_count": 3,
      "outputs": [
        {
          "output_type": "stream",
          "text": [
            "enter the number: 28\n",
            "enter the number: 22\n",
            "enter the number: 87\n",
            "enter the number: 37\n",
            "enter the number: 74\n",
            "enter the number: 36\n",
            "enter the number: 84\n",
            "enter the number: 27\n",
            "enter the number: 38\n",
            "enter the number: 47\n",
            "[[28 22 87 37 74]\n",
            " [36 84 27 38 47]]\n",
            "After sorting\n",
            "[[22 28 37 74 87]\n",
            " [27 36 38 47 84]]\n"
          ],
          "name": "stdout"
        }
      ]
    },
    {
      "cell_type": "code",
      "metadata": {
        "id": "B0AdDFXeI6oX",
        "outputId": "3b2aa98f-76dd-452c-cb0b-60b5b76e8288",
        "colab": {
          "base_uri": "https://localhost:8080/"
        }
      },
      "source": [
        "#Question 3\n",
        "arr = np.array([[1, 2, 3, 4], [5, 6, 7, 8]])\n",
        "print(\"Dimension of array\")\n",
        "print(arr.shape)\n",
        "print(\"size of array\")\n",
        "print(arr.size)"
      ],
      "execution_count": 4,
      "outputs": [
        {
          "output_type": "stream",
          "text": [
            "Dimension of array\n",
            "(2, 4)\n",
            "size of array\n",
            "8\n"
          ],
          "name": "stdout"
        }
      ]
    },
    {
      "cell_type": "code",
      "metadata": {
        "id": "P4MoEGJWJDpz",
        "outputId": "e0bd4600-4e30-4935-b658-bc3d5728e5cf",
        "colab": {
          "base_uri": "https://localhost:8080/"
        }
      },
      "source": [
        "#Question 4\n",
        "arr = np.array([0, 1, 2, 3, 4, 5, 6, 7, 8, 9])\n",
        "print('1D Numpy array:')\n",
        "print(arr,'\\n')\n",
        "arr_2d = np.reshape(arr, (2, 5))\n",
        "print('After 2D conversion Numpy array:')\n",
        "print(arr_2d)"
      ],
      "execution_count": 5,
      "outputs": [
        {
          "output_type": "stream",
          "text": [
            "1D Numpy array:\n",
            "[0 1 2 3 4 5 6 7 8 9] \n",
            "\n",
            "After 2D conversion Numpy array:\n",
            "[[0 1 2 3 4]\n",
            " [5 6 7 8 9]]\n"
          ],
          "name": "stdout"
        }
      ]
    },
    {
      "cell_type": "code",
      "metadata": {
        "id": "rMMh5qdCJG6K",
        "outputId": "0cf9bc07-6f1b-46e4-b9d9-ee5cd7f02ea6",
        "colab": {
          "base_uri": "https://localhost:8080/"
        }
      },
      "source": [
        "#Question 5\n",
        "arr1 = np.array([[1,2,3,4],[5,6,7,8]])\n",
        "arr2 = np.array([[8,7,6,5],[4,3,2,1]])\n",
        "\n",
        "print(np.hstack(arr1),\"\\n\")\n",
        "\n",
        "print(np.vstack(arr1))"
      ],
      "execution_count": 6,
      "outputs": [
        {
          "output_type": "stream",
          "text": [
            "[1 2 3 4 5 6 7 8] \n",
            "\n",
            "[[1 2 3 4]\n",
            " [5 6 7 8]]\n"
          ],
          "name": "stdout"
        }
      ]
    },
    {
      "cell_type": "code",
      "metadata": {
        "id": "akyKSrZcJLZm",
        "outputId": "180a93bf-de2a-4cff-b625-9530dc03a71d",
        "colab": {
          "base_uri": "https://localhost:8080/"
        }
      },
      "source": [
        "#Question 6\n",
        "arr = np.array([1, 1, 2, 3, 4, 4, 1])\n",
        "#print(arr)\n",
        "(unique, counts) = np.unique(arr, return_counts=True)\n",
        "frequencies = np.asarray((unique, counts)).T\n",
        "print(frequencies)"
      ],
      "execution_count": 7,
      "outputs": [
        {
          "output_type": "stream",
          "text": [
            "[[1 3]\n",
            " [2 1]\n",
            " [3 1]\n",
            " [4 2]]\n"
          ],
          "name": "stdout"
        }
      ]
    }
  ]
}